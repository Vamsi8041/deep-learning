{
 "cells": [
  {
   "cell_type": "code",
   "execution_count": 5,
   "id": "80dd97b9-96f1-4522-bb9c-93051db59df1",
   "metadata": {},
   "outputs": [],
   "source": [
    "import numpy as np"
   ]
  },
  {
   "cell_type": "code",
   "execution_count": 2,
   "id": "692615a4-101e-4427-aab0-a85818cb95c1",
   "metadata": {},
   "outputs": [],
   "source": [
    "import pandas as pd\n"
   ]
  },
  {
   "cell_type": "code",
   "execution_count": 11,
   "id": "32f5ab8b-f6ba-4eab-81d9-d5c7e23b935d",
   "metadata": {},
   "outputs": [],
   "source": [
    "zero_d=np.array(5)\n",
    "one_d=np.array([1,2,3,4,5])\n",
    "two_d=np.array([[1,2,3,4,5,6],[1,2,3,4,5,6]])"
   ]
  },
  {
   "cell_type": "code",
   "execution_count": 13,
   "id": "eb488c35-619d-4071-8269-67b13d30c6b8",
   "metadata": {},
   "outputs": [
    {
     "name": "stdout",
     "output_type": "stream",
     "text": [
      "0\n",
      "1\n",
      "2\n"
     ]
    }
   ],
   "source": [
    "print(zero_d.ndim)\n",
    "print(one_d.ndim)\n",
    "print(two_d.ndim)"
   ]
  },
  {
   "cell_type": "code",
   "execution_count": 14,
   "id": "dbb95fa7-c143-450c-8af6-055ff190f009",
   "metadata": {},
   "outputs": [
    {
     "name": "stdout",
     "output_type": "stream",
     "text": [
      "()\n",
      "(5,)\n",
      "(2, 6)\n"
     ]
    }
   ],
   "source": [
    "print(zero_d.shape)\n",
    "print(one_d.shape)\n",
    "print(two_d.shape)"
   ]
  },
  {
   "cell_type": "code",
   "execution_count": 37,
   "id": "22428ab5-b1a6-428c-82ff-90bf0feea912",
   "metadata": {},
   "outputs": [
    {
     "data": {
      "text/plain": [
       "array([0.15416284, 0.7400497 , 0.26331502, 0.53373939, 0.01457496])"
      ]
     },
     "execution_count": 37,
     "metadata": {},
     "output_type": "execute_result"
    }
   ],
   "source": [
    "np.random.seed(12)\n",
    "ran_1=np.random.rand(5)\n",
    "ran_1"
   ]
  },
  {
   "cell_type": "code",
   "execution_count": 18,
   "id": "ee4afb79-2f6f-47a0-963f-5b963304e89d",
   "metadata": {},
   "outputs": [
    {
     "data": {
      "text/plain": [
       "array([[0.34672323, 0.05100336, 0.42216745],\n",
       "       [0.92312821, 0.02936603, 0.36767591]])"
      ]
     },
     "execution_count": 18,
     "metadata": {},
     "output_type": "execute_result"
    }
   ],
   "source": [
    "ran_2=np.random.rand(2,3)\n",
    "ran_2"
   ]
  },
  {
   "cell_type": "code",
   "execution_count": 49,
   "id": "d2c7ef77-37d2-42fc-8967-e331de47df2b",
   "metadata": {},
   "outputs": [
    {
     "name": "stdout",
     "output_type": "stream",
     "text": [
      "[[[0.77132064 0.02075195 0.63364823 0.74880388]\n",
      "  [0.49850701 0.22479665 0.19806286 0.76053071]\n",
      "  [0.16911084 0.08833981 0.68535982 0.95339335]]\n",
      "\n",
      " [[0.00394827 0.51219226 0.81262096 0.61252607]\n",
      "  [0.72175532 0.29187607 0.91777412 0.71457578]\n",
      "  [0.54254437 0.14217005 0.37334076 0.67413362]]]\n",
      "\n",
      "The dimension od the array is: 3\n"
     ]
    }
   ],
   "source": [
    "np.random.seed(10)\n",
    "ran_2=np.random.rand(2,3,4)\n",
    "print(ran_2)\n",
    "print(\"The dimension od the array is:\",ran_2.ndim)"
   ]
  },
  {
   "cell_type": "code",
   "execution_count": 32,
   "id": "189b6e67-6482-480a-97ea-953d5c0b7522",
   "metadata": {},
   "outputs": [
    {
     "name": "stdout",
     "output_type": "stream",
     "text": [
      "[[[[0.77132064 0.02075195 0.63364823]]\n",
      "\n",
      "  [[0.74880388 0.49850701 0.22479665]]\n",
      "\n",
      "  [[0.19806286 0.76053071 0.16911084]]]\n",
      "\n",
      "\n",
      " [[[0.08833981 0.68535982 0.95339335]]\n",
      "\n",
      "  [[0.00394827 0.51219226 0.81262096]]\n",
      "\n",
      "  [[0.61252607 0.72175532 0.29187607]]]]\n",
      "The dimension od the array is: 4\n"
     ]
    }
   ],
   "source": [
    "np.random.seed(10)\n",
    "ran_4=np.random.rand(2,3,1,3)\n",
    "print(ran_4)\n",
    "print(\"The dimension od the array is:\",ran_4.ndim)"
   ]
  },
  {
   "cell_type": "code",
   "execution_count": 41,
   "id": "ef423af5-b9b4-429f-a91d-ac0b3589b1f7",
   "metadata": {},
   "outputs": [
    {
     "name": "stdout",
     "output_type": "stream",
     "text": [
      "[[0. 0.]\n",
      " [0. 0.]\n",
      " [0. 0.]\n",
      " [0. 0.]\n",
      " [0. 0.]\n",
      " [0. 0.]]\n"
     ]
    }
   ],
   "source": [
    "print(np.zeros((6,2)))"
   ]
  },
  {
   "cell_type": "code",
   "execution_count": 110,
   "id": "a5ac6deb-666d-459f-9d08-c368678cdbdf",
   "metadata": {},
   "outputs": [
    {
     "data": {
      "text/plain": [
       "array([[16, 17, 13],\n",
       "       [12,  1,  7],\n",
       "       [18, 13, 16]])"
      ]
     },
     "execution_count": 110,
     "metadata": {},
     "output_type": "execute_result"
    }
   ],
   "source": [
    "np.random.seed(11)\n",
    "a=np.random.randint(20,size=(3,3))\n",
    "a"
   ]
  },
  {
   "cell_type": "code",
   "execution_count": 63,
   "id": "d63bcb80-1824-4d80-a7fd-52317874ba3a",
   "metadata": {},
   "outputs": [
    {
     "data": {
      "text/plain": [
       "array([[ 3, 17,  9],\n",
       "       [ 5,  8, 19],\n",
       "       [ 8, 16, 13]])"
      ]
     },
     "execution_count": 63,
     "metadata": {},
     "output_type": "execute_result"
    }
   ],
   "source": [
    "np.random.seed(8)\n",
    "b=np.random.randint(20,size=(3,3))\n",
    "b"
   ]
  },
  {
   "cell_type": "code",
   "execution_count": 64,
   "id": "60666489-d9d9-4a1d-93c9-454a11a9ae55",
   "metadata": {},
   "outputs": [
    {
     "name": "stdout",
     "output_type": "stream",
     "text": [
      "[[19 34 22]\n",
      " [17  9 26]\n",
      " [26 29 29]]\n"
     ]
    }
   ],
   "source": [
    "print(a+b)"
   ]
  },
  {
   "cell_type": "code",
   "execution_count": 65,
   "id": "6cffc167-3643-4cff-8e24-332428f71d39",
   "metadata": {},
   "outputs": [
    {
     "name": "stdout",
     "output_type": "stream",
     "text": [
      "[[ 13   0   4]\n",
      " [  7  -7 -12]\n",
      " [ 10  -3   3]]\n"
     ]
    }
   ],
   "source": [
    "print(a-b)"
   ]
  },
  {
   "cell_type": "code",
   "execution_count": 66,
   "id": "b4991c8a-aeed-4eec-9c85-d41c716a110c",
   "metadata": {},
   "outputs": [
    {
     "name": "stdout",
     "output_type": "stream",
     "text": [
      "[[ 48 289 117]\n",
      " [ 60   8 133]\n",
      " [144 208 208]]\n"
     ]
    }
   ],
   "source": [
    "print(a*b)"
   ]
  },
  {
   "cell_type": "code",
   "execution_count": 67,
   "id": "614fd112-1d61-4cfa-a44e-035517b5623e",
   "metadata": {},
   "outputs": [
    {
     "name": "stdout",
     "output_type": "stream",
     "text": [
      "[[5.33333333 1.         1.44444444]\n",
      " [2.4        0.125      0.36842105]\n",
      " [2.25       0.8125     1.23076923]]\n"
     ]
    }
   ],
   "source": [
    "print(a/b)"
   ]
  },
  {
   "cell_type": "code",
   "execution_count": 68,
   "id": "6bf786c8-5839-4aba-b132-5cc7e7e369a1",
   "metadata": {},
   "outputs": [
    {
     "name": "stdout",
     "output_type": "stream",
     "text": [
      "[[16 12 18]\n",
      " [17  1 13]\n",
      " [13  7 16]]\n"
     ]
    }
   ],
   "source": [
    "print(a.transpose())"
   ]
  },
  {
   "cell_type": "code",
   "execution_count": 69,
   "id": "5135c9a3-6832-409c-add5-b60f1e97d13a",
   "metadata": {},
   "outputs": [
    {
     "name": "stdout",
     "output_type": "stream",
     "text": [
      "[[237 616 636]\n",
      " [ 97 324 218]\n",
      " [247 666 617]]\n"
     ]
    }
   ],
   "source": [
    "print(a@b)"
   ]
  },
  {
   "cell_type": "code",
   "execution_count": 70,
   "id": "53496675-0f33-4c3f-a8b9-56a3b9bcb772",
   "metadata": {},
   "outputs": [
    {
     "data": {
      "text/plain": [
       "array([[237, 616, 636],\n",
       "       [ 97, 324, 218],\n",
       "       [247, 666, 617]])"
      ]
     },
     "execution_count": 70,
     "metadata": {},
     "output_type": "execute_result"
    }
   ],
   "source": [
    "np.dot(a,b)"
   ]
  },
  {
   "cell_type": "code",
   "execution_count": null,
   "id": "705b1f37-b828-4957-aad2-e5826be88770",
   "metadata": {},
   "outputs": [],
   "source": []
  },
  {
   "cell_type": "code",
   "execution_count": 71,
   "id": "e3e0d273-a9e1-44f6-8d2f-e43cdbed027a",
   "metadata": {},
   "outputs": [
    {
     "name": "stdout",
     "output_type": "stream",
     "text": [
      "Sum: 113\n"
     ]
    }
   ],
   "source": [
    "sum_result = np.sum(a)\n",
    "print(\"Sum:\", sum_result)"
   ]
  },
  {
   "cell_type": "code",
   "execution_count": 72,
   "id": "e3d36c10-0519-42e6-b1d6-88528da56645",
   "metadata": {},
   "outputs": [
    {
     "name": "stdout",
     "output_type": "stream",
     "text": [
      "Mean: 12.555555555555555\n"
     ]
    }
   ],
   "source": [
    "mean_result = np.mean(a)\n",
    "print(\"Mean:\", mean_result)\n"
   ]
  },
  {
   "cell_type": "code",
   "execution_count": 75,
   "id": "1b5eb252-add6-45e5-b843-6e3170fa80ba",
   "metadata": {},
   "outputs": [
    {
     "name": "stdout",
     "output_type": "stream",
     "text": [
      "Mean: 13.0\n"
     ]
    }
   ],
   "source": [
    "mean_result = np.median(a)\n",
    "print(\"Median:\", mean_result)\n"
   ]
  },
  {
   "cell_type": "code",
   "execution_count": 77,
   "id": "10ca4923-b5b0-44c9-aaaf-e03bd720efd2",
   "metadata": {},
   "outputs": [
    {
     "name": "stdout",
     "output_type": "stream",
     "text": [
      "min: 1\n"
     ]
    }
   ],
   "source": [
    "mean_result = np.min(a)\n",
    "print(\"min:\", mean_result)\n"
   ]
  },
  {
   "cell_type": "code",
   "execution_count": 78,
   "id": "917bd7c5-2c10-4216-835a-7231532ae356",
   "metadata": {},
   "outputs": [
    {
     "name": "stdout",
     "output_type": "stream",
     "text": [
      "max: 18\n"
     ]
    }
   ],
   "source": [
    "mean_result = np.max(a)\n",
    "print(\"max:\", mean_result)\n"
   ]
  },
  {
   "cell_type": "code",
   "execution_count": 79,
   "id": "8d4b12c2-2426-402a-8e74-3fdf94d5ecc4",
   "metadata": {},
   "outputs": [
    {
     "name": "stdout",
     "output_type": "stream",
     "text": [
      "std: 5.1448164012401\n"
     ]
    }
   ],
   "source": [
    "mean_result = np.std(a)\n",
    "print(\"std:\", mean_result)\n"
   ]
  },
  {
   "cell_type": "code",
   "execution_count": 107,
   "id": "cedec7f3-e41e-4894-9216-54e9bdde4d88",
   "metadata": {},
   "outputs": [
    {
     "name": "stdout",
     "output_type": "stream",
     "text": [
      "[ 9.95609136  9.68780437  9.64232307  9.24728661  7.92453732  9.54365693\n",
      "  6.73972386  8.6306103  10.003394    9.19400214]\n"
     ]
    },
    {
     "data": {
      "image/png": "[encoded data removed]",
      "text/plain": [
       "<Figure size 640x480 with 1 Axes>"
      ]
     },
     "metadata": {},
     "output_type": "display_data"
    }
   ],
   "source": [
    "import numpy as np\n",
    "import matplotlib.pyplot as plt\n",
    "def squ(x):\n",
    "    return (x ** 2) - 5*(x ** 3) + 10\n",
    "\n",
    "\n",
    "a = np.random.rand(10)\n",
    "b=squ(a)\n",
    "print(squ(a))\n",
    "\n",
    "\n",
    "\n",
    "#plot\n",
    "\n",
    "plt.plot(a,b)\n",
    "plt.xlabel(\"a values\")\n",
    "plt.ylabel(\"square values\")\n",
    "plt.show()"
   ]
  },
  {
   "cell_type": "code",
   "execution_count": null,
   "id": "15a824da-046b-49a3-8031-ccfda6fd1c3a",
   "metadata": {},
   "outputs": [],
   "source": []
  },
  {
   "cell_type": "code",
   "execution_count": 101,
   "id": "b28c8929-8429-4518-9807-603f83de520b",
   "metadata": {},
   "outputs": [
    {
     "data": {
      "text/plain": [
       "array([0.76416013, 0.93880391, 0.3196898 , 0.43247593, 0.27014574,\n",
       "       0.80105589, 0.63823881, 0.06869013, 0.60364448, 0.79557456])"
      ]
     },
     "execution_count": 101,
     "metadata": {},
     "output_type": "execute_result"
    }
   ],
   "source": []
  },
  {
   "cell_type": "code",
   "execution_count": 109,
   "id": "114e6624-5ee0-492a-85ca-6d233f766978",
   "metadata": {},
   "outputs": [
    {
     "name": "stdout",
     "output_type": "stream",
     "text": [
      "1\n"
     ]
    }
   ],
   "source": [
    "def ele(x,w):\n",
    "    if sum(x*w)>=0:\n",
    "        return 1\n",
    "    else:\n",
    "        return 0\n",
    "x=np.random.randint(1,10,10)\n",
    "w=np.random.rand(10)\n",
    "\n",
    "print(ele(x,w))"
   ]
  },
  {
   "cell_type": "code",
   "execution_count": null,
   "id": "752e1ed9-f76b-4a75-b9d6-6537b1652ad3",
   "metadata": {},
   "outputs": [],
   "source": []
  },
  {
   "cell_type": "code",
   "execution_count": null,
   "id": "06e6dcea-dd28-4d1c-b608-61d52a45f79e",
   "metadata": {},
   "outputs": [],
   "source": []
  },
  {
   "cell_type": "code",
   "execution_count": null,
   "id": "c5b52441-ccc0-44a1-8191-a88f4eca38dc",
   "metadata": {},
   "outputs": [],
   "source": []
  },
  {
   "cell_type": "code",
   "execution_count": null,
   "id": "35e5bbbc-61bb-4dce-bd1e-0217deb01ef3",
   "metadata": {},
   "outputs": [],
   "source": []
  },
  {
   "cell_type": "code",
   "execution_count": null,
   "id": "183b2783-9cd1-46e7-a5c9-064d6842e28c",
   "metadata": {},
   "outputs": [],
   "source": []
  },
  {
   "cell_type": "code",
   "execution_count": null,
   "id": "146396f2-d8b8-4871-90fb-0d3b6abe0485",
   "metadata": {},
   "outputs": [],
   "source": []
  },
  {
   "cell_type": "code",
   "execution_count": null,
   "id": "e29e719c-eb49-4e60-90a1-e4ad4495313a",
   "metadata": {},
   "outputs": [],
   "source": []
  },
  {
   "cell_type": "code",
   "execution_count": null,
   "id": "c198951e-e60a-4513-87d8-3a0961d56582",
   "metadata": {},
   "outputs": [],
   "source": []
  },
  {
   "cell_type": "code",
   "execution_count": null,
   "id": "a2cf8f45-4e9c-4b40-b94f-0b314586f683",
   "metadata": {},
   "outputs": [],
   "source": []
  },
  {
   "cell_type": "code",
   "execution_count": null,
   "id": "b5af8d40-a980-4014-91c0-37ad1bd8bc69",
   "metadata": {},
   "outputs": [],
   "source": []
  },
  {
   "cell_type": "code",
   "execution_count": null,
   "id": "fbe06364-f770-444b-a387-983948895c45",
   "metadata": {},
   "outputs": [],
   "source": []
  },
  {
   "cell_type": "code",
   "execution_count": null,
   "id": "960a91e3-8cbf-474e-b03d-ce32e94a8ae2",
   "metadata": {},
   "outputs": [],
   "source": []
  },
  {
   "cell_type": "code",
   "execution_count": null,
   "id": "c33f63ea-effc-43df-89cd-22ec3304b0f9",
   "metadata": {},
   "outputs": [],
   "source": []
  },
  {
   "cell_type": "code",
   "execution_count": null,
   "id": "a42d79c6-25e0-49bf-887d-75dcc8930dce",
   "metadata": {},
   "outputs": [],
   "source": []
  },
  {
   "cell_type": "code",
   "execution_count": null,
   "id": "304dbd12-6ce0-4c82-ac2a-1a663ce8ab0b",
   "metadata": {},
   "outputs": [],
   "source": []
  },
  {
   "cell_type": "code",
   "execution_count": null,
   "id": "72886778-5195-4611-9dd0-35400465dea6",
   "metadata": {},
   "outputs": [],
   "source": []
  },
  {
   "cell_type": "code",
   "execution_count": null,
   "id": "573ebfc7-b9ea-4608-82a8-1972fb333a67",
   "metadata": {},
   "outputs": [],
   "source": []
  },
  {
   "cell_type": "code",
   "execution_count": null,
   "id": "ba71ca0c-2c1e-46e7-878f-a09ca83839a0",
   "metadata": {},
   "outputs": [],
   "source": []
  },
  {
   "cell_type": "code",
   "execution_count": null,
   "id": "093aaa98-ffa8-481b-aab8-af5016273c50",
   "metadata": {},
   "outputs": [],
   "source": []
  },
  {
   "cell_type": "code",
   "execution_count": null,
   "id": "19f7b2d3-974c-4e11-9476-1a25c3c62dee",
   "metadata": {},
   "outputs": [],
   "source": []
  },
  {
   "cell_type": "code",
   "execution_count": null,
   "id": "1ede6c46-8323-4f32-97bc-f0f3a51013b9",
   "metadata": {},
   "outputs": [],
   "source": []
  },
  {
   "cell_type": "code",
   "execution_count": null,
   "id": "434ef834-836c-4e5c-b336-7b76332437d7",
   "metadata": {},
   "outputs": [],
   "source": []
  },
  {
   "cell_type": "code",
   "execution_count": null,
   "id": "fc6346b0-a3dc-4de5-a580-f4aa7a9c779d",
   "metadata": {},
   "outputs": [],
   "source": []
  },
  {
   "cell_type": "code",
   "execution_count": null,
   "id": "9aa6bed2-2244-4acb-9bc3-7312b8db4f10",
   "metadata": {},
   "outputs": [],
   "source": []
  },
  {
   "cell_type": "code",
   "execution_count": null,
   "id": "bad6bbde-1e23-4a46-9e5d-9d78b6175fde",
   "metadata": {},
   "outputs": [],
   "source": []
  },
  {
   "cell_type": "code",
   "execution_count": null,
   "id": "84c2d61c-ca6e-4a9a-9a19-ecbc3993c826",
   "metadata": {},
   "outputs": [],
   "source": []
  },
  {
   "cell_type": "code",
   "execution_count": null,
   "id": "ae5174f4-4ec2-4b2d-b4c7-fbe70ad32771",
   "metadata": {},
   "outputs": [],
   "source": []
  },
  {
   "cell_type": "code",
   "execution_count": null,
   "id": "64553b9b-4cda-4408-88aa-45a6a272039b",
   "metadata": {},
   "outputs": [],
   "source": []
  },
  {
   "cell_type": "code",
   "execution_count": null,
   "id": "5b8edb71-993e-405a-82ae-48310fe183f2",
   "metadata": {},
   "outputs": [],
   "source": []
  },
  {
   "cell_type": "code",
   "execution_count": null,
   "id": "aecddc27-5509-4d0b-af79-51e0ec2af144",
   "metadata": {},
   "outputs": [],
   "source": []
  },
  {
   "cell_type": "code",
   "execution_count": null,
   "id": "b06be6c3-b010-438e-8853-fb3639a20111",
   "metadata": {},
   "outputs": [],
   "source": []
  },
  {
   "cell_type": "code",
   "execution_count": null,
   "id": "e3b8f63f-dc21-4238-a4a0-f3c0d8ceba3e",
   "metadata": {},
   "outputs": [],
   "source": []
  },
  {
   "cell_type": "code",
   "execution_count": null,
   "id": "9d28b44f-b084-4bae-a5ca-077cb7b39528",
   "metadata": {},
   "outputs": [],
   "source": []
  },
  {
   "cell_type": "code",
   "execution_count": null,
   "id": "e7f5ffe1-32a1-4f67-bcf3-9cef2c7867e1",
   "metadata": {},
   "outputs": [],
   "source": []
  }
 ],
 "metadata": {
  "kernelspec": {
   "display_name": "Python 3 (ipykernel)",
   "language": "python",
   "name": "python3"
  },
  "language_info": {
   "codemirror_mode": {
    "name": "ipython",
    "version": 3
   },
   "file_extension": ".py",
   "mimetype": "text/x-python",
   "name": "python",
   "nbconvert_exporter": "python",
   "pygments_lexer": "ipython3",
   "version": "3.12.4"
  }
 },
 "nbformat": 4,
 "nbformat_minor": 5
}
